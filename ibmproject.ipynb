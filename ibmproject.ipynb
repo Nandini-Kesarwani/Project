{
  "nbformat": 4,
  "nbformat_minor": 0,
  "metadata": {
    "colab": {
      "provenance": [],
      "authorship_tag": "ABX9TyO3QZBAj7k5q1DLotlrKrgu",
      "include_colab_link": true
    },
    "kernelspec": {
      "name": "python3",
      "display_name": "Python 3"
    },
    "language_info": {
      "name": "python"
    }
  },
  "cells": [
    {
      "cell_type": "markdown",
      "metadata": {
        "id": "view-in-github",
        "colab_type": "text"
      },
      "source": [
        "<a href=\"https://colab.research.google.com/github/Nandini-Kesarwani/Project/blob/main/ibmproject.ipynb\" target=\"_parent\"><img src=\"https://colab.research.google.com/assets/colab-badge.svg\" alt=\"Open In Colab\"/></a>"
      ]
    },
    {
      "cell_type": "code",
      "execution_count": null,
      "metadata": {
        "colab": {
          "base_uri": "https://localhost:8080/"
        },
        "id": "iGy57qvOfMVa",
        "outputId": "32eb798b-56a6-4312-ab9e-c991ee3721f8"
      },
      "outputs": [
        {
          "output_type": "stream",
          "name": "stdout",
          "text": [
            "✅ Mean Squared Error: 5961760.3727467405\n"
          ]
        }
      ],
      "source": [
        "import pandas as pd\n",
        "import numpy as np\n",
        "from sklearn.model_selection import train_test_split\n",
        "from sklearn.ensemble import RandomForestRegressor, GradientBoostingRegressor, VotingRegressor\n",
        "from sklearn.linear_model import LinearRegression\n",
        "from sklearn.metrics import mean_squared_error\n",
        "\n",
        "# Step 2: Create sample dataset\n",
        "data = {\n",
        "    'Experience': [1, 2, 3, 4, 5, 6, 7, 8, 9, 10],\n",
        "    'Test_Score': [80, 82, 84, 86, 88, 90, 92, 94, 96, 98],\n",
        "    'Interview_Score': [70, 72, 74, 76, 78, 80, 82, 84, 86, 88],\n",
        "    'Salary': [30000, 35000, 40000, 45000, 50000, 55000, 60000, 65000, 70000, 75000]\n",
        "}\n",
        "\n",
        "# Step 3: Convert data to DataFrame\n",
        "df = pd.DataFrame(data)\n",
        "\n",
        "# Step 4: Features and Target\n",
        "X = df[['Experience', 'Test_Score', 'Interview_Score']]\n",
        "y = df['Salary']\n",
        "\n",
        "# Step 5: Train-test split\n",
        "X_train, X_test, y_train, y_test = train_test_split(X, y, test_size=0.2, random_state=42)\n",
        "\n",
        "# Step 6: Models\n",
        "model1 = LinearRegression()\n",
        "model2 = RandomForestRegressor(random_state=1)\n",
        "model3 = GradientBoostingRegressor(random_state=1)\n",
        "\n",
        "# Step 7: Ensemble using Voting Regressor\n",
        "ensemble_model = VotingRegressor(estimators=[\n",
        "    ('lr', model1),\n",
        "    ('rf', model2),\n",
        "    ('gb', model3)\n",
        "])\n",
        "\n",
        "# Step 8: Train the ensemble model\n",
        "ensemble_model.fit(X_train, y_train)\n",
        "\n",
        "# Step 9: Predict and evaluate\n",
        "y_pred = ensemble_model.predict(X_test)\n",
        "mse = mean_squared_error(y_test, y_pred)\n",
        "print(\"✅ Mean Squared Error:\", mse)\n",
        "\n",
        "# Step 10: Take user input for a new prediction\n",
        "try:\n",
        "    experience = float(input(\"Enter candidate's years of experience: \"))\n",
        "    test_score = float(input(\"Enter candidate's test score (out of 100): \"))\n",
        "    interview_score = float(input(\"Enter candidate's interview score (out of 100): \"))\n",
        "\n",
        "    new_candidate = np.array([[experience, test_score, interview_score]])\n",
        "    predicted_salary = ensemble_model.predict(new_candidate)\n",
        "\n",
        "    print(\"\\n Predicted Salary for candidate: ₹\", round(predicted_salary[0], 2))\n",
        "except ValueError:\n",
        "    print(\" Invalid input! Please enter numerical values.\")\n",
        "\n",
        "input(\"\\nPress Enter to exit...\")"
      ]
    }
  ]
}